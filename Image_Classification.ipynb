{
  "nbformat": 4,
  "nbformat_minor": 0,
  "metadata": {
    "colab": {
      "name": "Image_Classification.ipynb",
      "provenance": [],
      "collapsed_sections": [],
      "machine_shape": "hm",
      "include_colab_link": true
    },
    "kernelspec": {
      "name": "python3",
      "display_name": "Python 3"
    },
    "accelerator": "GPU"
  },
  "cells": [
    {
      "cell_type": "markdown",
      "metadata": {
        "id": "view-in-github",
        "colab_type": "text"
      },
      "source": [
        "<a href=\"https://colab.research.google.com/github/jittapont/bank_proof_classification/blob/master/Image_Classification.ipynb\" target=\"_parent\"><img src=\"https://colab.research.google.com/assets/colab-badge.svg\" alt=\"Open In Colab\"/></a>"
      ]
    },
    {
      "cell_type": "code",
      "metadata": {
        "id": "Z5xfgvVBrZSP",
        "colab_type": "code",
        "outputId": "da16cb37-95af-4315-cd87-bb881f7789be",
        "colab": {
          "base_uri": "https://localhost:8080/",
          "height": 120
        }
      },
      "source": [
        "from google.colab import drive\n",
        "drive.mount('/content/drive', force_remount=True)"
      ],
      "execution_count": 1,
      "outputs": [
        {
          "output_type": "stream",
          "text": [
            "Go to this URL in a browser: https://accounts.google.com/o/oauth2/auth?client_id=947318989803-6bn6qk8qdgf4n4g3pfee6491hc0brc4i.apps.googleusercontent.com&redirect_uri=urn%3aietf%3awg%3aoauth%3a2.0%3aoob&response_type=code&scope=email%20https%3a%2f%2fwww.googleapis.com%2fauth%2fdocs.test%20https%3a%2f%2fwww.googleapis.com%2fauth%2fdrive%20https%3a%2f%2fwww.googleapis.com%2fauth%2fdrive.photos.readonly%20https%3a%2f%2fwww.googleapis.com%2fauth%2fpeopleapi.readonly\n",
            "\n",
            "Enter your authorization code:\n",
            "··········\n",
            "Mounted at /content/drive\n"
          ],
          "name": "stdout"
        }
      ]
    },
    {
      "cell_type": "code",
      "metadata": {
        "id": "B01cctcvcwzt",
        "colab_type": "code",
        "outputId": "02f37f3a-5077-45ad-97b3-951c0d17ff9e",
        "colab": {
          "base_uri": "https://localhost:8080/",
          "height": 34
        }
      },
      "source": [
        "import tensorflow as tf\n",
        "tf.test.gpu_device_name()"
      ],
      "execution_count": 0,
      "outputs": [
        {
          "output_type": "execute_result",
          "data": {
            "text/plain": [
              "'/device:GPU:0'"
            ]
          },
          "metadata": {
            "tags": []
          },
          "execution_count": 2
        }
      ]
    },
    {
      "cell_type": "code",
      "metadata": {
        "id": "nvM-I9viq7AF",
        "colab_type": "code",
        "colab": {}
      },
      "source": [
        "%tensorflow_version 1.x\n",
        "import pickle\n",
        "import os\n",
        "import matplotlib.pyplot as plt\n",
        "import numpy as np\n",
        "import cv2\n",
        "import tensorflow as tf\n",
        "from tensorflow.keras.models import Sequential\n",
        "from tensorflow.keras.layers import Dense, Dropout, Activation, Flatten\n",
        "from tensorflow.keras.layers import Conv2D, MaxPooling2D\n",
        "from keras.utils.np_utils import to_categorical\n",
        "import datetime"
      ],
      "execution_count": 0,
      "outputs": []
    },
    {
      "cell_type": "code",
      "metadata": {
        "id": "SE2-vi_WqbRw",
        "colab_type": "code",
        "colab": {}
      },
      "source": [
        "with open(\"/content/drive/My Drive/Dataset/X.pickle\",\"rb\") as pickle_in:\n",
        "    X = pickle.load(pickle_in)"
      ],
      "execution_count": 0,
      "outputs": []
    },
    {
      "cell_type": "code",
      "metadata": {
        "id": "HEPoo6rRq-yB",
        "colab_type": "code",
        "colab": {}
      },
      "source": [
        "with open(\"/content/drive/My Drive/Dataset/y.pickle\",\"rb\") as pickle_in:\n",
        "    y = pickle.load(pickle_in)"
      ],
      "execution_count": 0,
      "outputs": []
    },
    {
      "cell_type": "code",
      "metadata": {
        "id": "dsH8j_G9CU7y",
        "colab_type": "code",
        "outputId": "7e591703-1a0e-4b64-c731-bce58d05ae19",
        "colab": {
          "base_uri": "https://localhost:8080/",
          "height": 34
        }
      },
      "source": [
        "X.shape"
      ],
      "execution_count": 8,
      "outputs": [
        {
          "output_type": "execute_result",
          "data": {
            "text/plain": [
              "(24000, 200, 100, 1)"
            ]
          },
          "metadata": {
            "tags": []
          },
          "execution_count": 8
        }
      ]
    },
    {
      "cell_type": "code",
      "metadata": {
        "id": "Ag6vHGYJkTyx",
        "colab_type": "code",
        "colab": {}
      },
      "source": [
        "y = to_categorical(y)"
      ],
      "execution_count": 0,
      "outputs": []
    },
    {
      "cell_type": "code",
      "metadata": {
        "id": "qnhLE6yWiI_h",
        "colab_type": "code",
        "outputId": "308b1e1e-37df-4293-dcd4-54f3cd7a477a",
        "colab": {
          "base_uri": "https://localhost:8080/",
          "height": 219
        }
      },
      "source": [
        "# memory footprint support libraries/code\n",
        "!ln -sf /opt/bin/nvidia-smi /usr/bin/nvidia-smi\n",
        "!pip install gputil\n",
        "!pip install psutil\n",
        "!pip install humanize\n",
        "\n",
        "import psutil\n",
        "import humanize\n",
        "import os\n",
        "import GPUtil as GPU\n",
        "GPUs = GPU.getGPUs()\n",
        "# XXX: only one GPU on Colab and isn't guaranteed\n",
        "gpu = GPUs[0]\n",
        "\n",
        "def printm():\n",
        "  process = psutil.Process(os.getpid())\n",
        "  print(\"Gen RAM Free: \" + humanize.naturalsize( psutil.virtual_memory().available ), \" I Proc size: \" + humanize.naturalsize( process.memory_info().rss))\n",
        "  print('GPU RAM Free: {0:.0f}MB | Used: {1:.0f}MB | Util {2:3.0f}% | Total {3:.0f}MB'.format(gpu.memoryFree, gpu.memoryUsed, gpu.memoryUtil*100, gpu.memoryTotal))\n",
        "\n",
        "printm()"
      ],
      "execution_count": 0,
      "outputs": [
        {
          "output_type": "stream",
          "text": [
            "Collecting gputil\n",
            "  Downloading https://files.pythonhosted.org/packages/ed/0e/5c61eedde9f6c87713e89d794f01e378cfd9565847d4576fa627d758c554/GPUtil-1.4.0.tar.gz\n",
            "Building wheels for collected packages: gputil\n",
            "  Building wheel for gputil (setup.py) ... \u001b[?25l\u001b[?25hdone\n",
            "  Stored in directory: /root/.cache/pip/wheels/3d/77/07/80562de4bb0786e5ea186911a2c831fdd0018bda69beab71fd\n",
            "Successfully built gputil\n",
            "Installing collected packages: gputil\n",
            "Successfully installed gputil-1.4.0\n",
            "Requirement already satisfied: psutil in /usr/local/lib/python3.6/dist-packages (5.4.8)\n",
            "Requirement already satisfied: humanize in /usr/local/lib/python3.6/dist-packages (0.5.1)\n",
            "Gen RAM Free: 9.1 GB  I Proc size: 5.0 GB\n",
            "GPU RAM Free: 11370MB | Used: 71MB | Util   1% | Total 11441MB\n"
          ],
          "name": "stdout"
        }
      ]
    },
    {
      "cell_type": "code",
      "metadata": {
        "id": "2Fb8wfbN00Jj",
        "colab_type": "code",
        "outputId": "d984bb63-93c4-4d74-bd66-9fdb88229128",
        "colab": {
          "base_uri": "https://localhost:8080/",
          "height": 1000
        }
      },
      "source": [
        "model = Sequential()\n",
        "\n",
        "model.add(Conv2D(256, (3, 3), input_shape=X.shape[1:]))\n",
        "model.add(Activation('relu'))\n",
        "model.add(MaxPooling2D(pool_size=(2, 2)))\n",
        "\n",
        "model.add(Conv2D(256, (3, 3)))\n",
        "model.add(Activation('relu'))\n",
        "model.add(MaxPooling2D(pool_size=(2, 2)))\n",
        "\n",
        "model.add(Conv2D(256, (3, 3)))\n",
        "model.add(Activation('relu'))\n",
        "model.add(MaxPooling2D(pool_size=(2, 2)))\n",
        "\n",
        "model.add(Flatten())\n",
        "\n",
        "model.add(Dense(64))\n",
        "model.add(Dense(64))\n",
        "\n",
        "model.add(Dense(y.shape[1]))\n",
        "model.add(Activation('softmax'))\n",
        "\n",
        "model.compile(loss='categorical_crossentropy',\n",
        "              optimizer='adam',\n",
        "              metrics=['accuracy'])\n",
        "\n",
        "model.fit(X, y, batch_size=128, epochs=30, validation_split=0.3)"
      ],
      "execution_count": 10,
      "outputs": [
        {
          "output_type": "stream",
          "text": [
            "WARNING:tensorflow:From /usr/local/lib/python3.6/dist-packages/tensorflow_core/python/ops/resource_variable_ops.py:1630: calling BaseResourceVariable.__init__ (from tensorflow.python.ops.resource_variable_ops) with constraint is deprecated and will be removed in a future version.\n",
            "Instructions for updating:\n",
            "If using Keras pass *_constraint arguments to layers.\n",
            "Train on 16800 samples, validate on 7200 samples\n",
            "Epoch 1/30\n",
            "16800/16800 [==============================] - 47s 3ms/sample - loss: 0.1847 - acc: 0.9542 - val_loss: 0.0198 - val_acc: 0.9978\n",
            "Epoch 2/30\n",
            "16800/16800 [==============================] - 41s 2ms/sample - loss: 0.0042 - acc: 0.9995 - val_loss: 0.0196 - val_acc: 0.9976\n",
            "Epoch 3/30\n",
            "16800/16800 [==============================] - 40s 2ms/sample - loss: 0.0034 - acc: 0.9996 - val_loss: 0.0236 - val_acc: 0.9978\n",
            "Epoch 4/30\n",
            "16800/16800 [==============================] - 40s 2ms/sample - loss: 0.0034 - acc: 0.9996 - val_loss: 0.0180 - val_acc: 0.9983\n",
            "Epoch 5/30\n",
            "16800/16800 [==============================] - 40s 2ms/sample - loss: 0.0037 - acc: 0.9996 - val_loss: 0.0225 - val_acc: 0.9978\n",
            "Epoch 6/30\n",
            "16800/16800 [==============================] - 40s 2ms/sample - loss: 0.0030 - acc: 0.9995 - val_loss: 0.0186 - val_acc: 0.9983\n",
            "Epoch 7/30\n",
            "16800/16800 [==============================] - 40s 2ms/sample - loss: 0.0025 - acc: 0.9997 - val_loss: 0.0181 - val_acc: 0.9982\n",
            "Epoch 8/30\n",
            "16800/16800 [==============================] - 40s 2ms/sample - loss: 0.0023 - acc: 0.9996 - val_loss: 0.0174 - val_acc: 0.9983\n",
            "Epoch 9/30\n",
            "16800/16800 [==============================] - 40s 2ms/sample - loss: 0.0023 - acc: 0.9996 - val_loss: 0.0215 - val_acc: 0.9978\n",
            "Epoch 10/30\n",
            "16800/16800 [==============================] - 40s 2ms/sample - loss: 0.0026 - acc: 0.9996 - val_loss: 0.0180 - val_acc: 0.9983\n",
            "Epoch 11/30\n",
            "16800/16800 [==============================] - 40s 2ms/sample - loss: 0.0020 - acc: 0.9996 - val_loss: 0.0183 - val_acc: 0.9978\n",
            "Epoch 12/30\n",
            "16800/16800 [==============================] - 40s 2ms/sample - loss: 0.0025 - acc: 0.9996 - val_loss: 0.0189 - val_acc: 0.9981\n",
            "Epoch 13/30\n",
            "16800/16800 [==============================] - 40s 2ms/sample - loss: 0.0024 - acc: 0.9997 - val_loss: 0.0220 - val_acc: 0.9978\n",
            "Epoch 14/30\n",
            "16800/16800 [==============================] - 40s 2ms/sample - loss: 0.0020 - acc: 0.9996 - val_loss: 0.0194 - val_acc: 0.9971\n",
            "Epoch 15/30\n",
            "16800/16800 [==============================] - 40s 2ms/sample - loss: 0.0032 - acc: 0.9995 - val_loss: 0.0146 - val_acc: 0.9983\n",
            "Epoch 16/30\n",
            "16800/16800 [==============================] - 40s 2ms/sample - loss: 0.0016 - acc: 0.9996 - val_loss: 0.0197 - val_acc: 0.9981\n",
            "Epoch 17/30\n",
            "16800/16800 [==============================] - 40s 2ms/sample - loss: 0.0013 - acc: 0.9997 - val_loss: 0.0319 - val_acc: 0.9975\n",
            "Epoch 18/30\n",
            "16800/16800 [==============================] - 40s 2ms/sample - loss: 0.0025 - acc: 0.9995 - val_loss: 0.0220 - val_acc: 0.9978\n",
            "Epoch 19/30\n",
            "16800/16800 [==============================] - 40s 2ms/sample - loss: 0.0020 - acc: 0.9998 - val_loss: 0.0210 - val_acc: 0.9981\n",
            "Epoch 20/30\n",
            "16800/16800 [==============================] - 40s 2ms/sample - loss: 0.0014 - acc: 0.9995 - val_loss: 0.0174 - val_acc: 0.9982\n",
            "Epoch 21/30\n",
            "16800/16800 [==============================] - 40s 2ms/sample - loss: 0.0022 - acc: 0.9994 - val_loss: 0.0654 - val_acc: 0.9862\n",
            "Epoch 22/30\n",
            "16800/16800 [==============================] - 40s 2ms/sample - loss: 0.0037 - acc: 0.9992 - val_loss: 0.0194 - val_acc: 0.9981\n",
            "Epoch 23/30\n",
            "16800/16800 [==============================] - 40s 2ms/sample - loss: 0.0038 - acc: 0.9992 - val_loss: 0.0337 - val_acc: 0.9978\n",
            "Epoch 24/30\n",
            "16800/16800 [==============================] - 40s 2ms/sample - loss: 0.0024 - acc: 0.9994 - val_loss: 0.0428 - val_acc: 0.9975\n",
            "Epoch 25/30\n",
            "16800/16800 [==============================] - 40s 2ms/sample - loss: 0.0038 - acc: 0.9993 - val_loss: 0.0507 - val_acc: 0.9894\n",
            "Epoch 26/30\n",
            "16800/16800 [==============================] - 40s 2ms/sample - loss: 0.2728 - acc: 0.9876 - val_loss: 0.2197 - val_acc: 0.9972\n",
            "Epoch 27/30\n",
            "16800/16800 [==============================] - 40s 2ms/sample - loss: 0.0232 - acc: 0.9992 - val_loss: 0.0588 - val_acc: 0.9978\n",
            "Epoch 28/30\n",
            "16800/16800 [==============================] - 40s 2ms/sample - loss: 0.0050 - acc: 0.9993 - val_loss: 0.0697 - val_acc: 0.9982\n",
            "Epoch 29/30\n",
            "16800/16800 [==============================] - 40s 2ms/sample - loss: 0.0024 - acc: 0.9995 - val_loss: 0.0515 - val_acc: 0.9979\n",
            "Epoch 30/30\n",
            "16800/16800 [==============================] - 40s 2ms/sample - loss: 0.0018 - acc: 0.9996 - val_loss: 0.0514 - val_acc: 0.9981\n"
          ],
          "name": "stdout"
        },
        {
          "output_type": "execute_result",
          "data": {
            "text/plain": [
              "<tensorflow.python.keras.callbacks.History at 0x7f4a65d94908>"
            ]
          },
          "metadata": {
            "tags": []
          },
          "execution_count": 10
        }
      ]
    },
    {
      "cell_type": "code",
      "metadata": {
        "id": "ZMGU5j0OnE3l",
        "colab_type": "code",
        "colab": {}
      },
      "source": [
        "model_path = r'/content/drive/My Drive/OCR scripts'\n",
        "model.save(os.path.join(\n",
        "    model_path,\n",
        "    f\"image_classification_model_{datetime.datetime.now().strftime('%Y-%m-%d')}.model\")\n",
        ")"
      ],
      "execution_count": 0,
      "outputs": []
    },
    {
      "cell_type": "code",
      "metadata": {
        "id": "vUXrjhXX91Q8",
        "colab_type": "code",
        "colab": {}
      },
      "source": [
        "model.save(\n",
        "    f\"image_classification_model_{datetime.datetime.now().strftime('%Y-%m-%d')}.model\")"
      ],
      "execution_count": 0,
      "outputs": []
    },
    {
      "cell_type": "code",
      "metadata": {
        "id": "iNGUbvbn34Dv",
        "colab_type": "code",
        "outputId": "ae53c8a2-fe84-4374-b7f4-ca4d93bda05d",
        "colab": {
          "base_uri": "https://localhost:8080/",
          "height": 51
        }
      },
      "source": [
        "import cv2\n",
        "import tensorflow as tf\n",
        "import numpy as np\n",
        "categories = ['BAY', 'BBL', 'GSB', 'KBANK', 'KTB', 'Others', 'SCB', 'TBANK', 'TMB']\n",
        "\n",
        "def prepare(filepath):\n",
        "    IMG_SIZE = 100\n",
        "    img_array = cv2.imread(filepath, cv2.IMREAD_GRAYSCALE)\n",
        "    new_array = cv2.resize(img_array, (IMG_SIZE, IMG_SIZE)) \n",
        "    return new_array.reshape(-1, IMG_SIZE, IMG_SIZE, 1) \n",
        "\n",
        "model = tf.keras.models.load_model(\"/content/Image_Classification.model\")\n",
        "prediction = model.predict([prepare('/content/678941063_14863738349228379046.jpeg')])\n",
        "print(prediction[0])\n",
        "print(categories[np.argmax(prediction[0])])"
      ],
      "execution_count": 0,
      "outputs": [
        {
          "output_type": "stream",
          "text": [
            "[0. 0. 0. 1. 0. 0. 0. 0. 0.]\n",
            "KBANK\n"
          ],
          "name": "stdout"
        }
      ]
    },
    {
      "cell_type": "code",
      "metadata": {
        "id": "vOUpHJFt4YwW",
        "colab_type": "code",
        "outputId": "36b06b17-6213-4d5c-ac30-d44bdd41982f",
        "colab": {
          "base_uri": "https://localhost:8080/",
          "height": 34
        }
      },
      "source": [
        "prediction[0]"
      ],
      "execution_count": 0,
      "outputs": [
        {
          "output_type": "execute_result",
          "data": {
            "text/plain": [
              "array([0., 0., 0., 1., 0., 0., 0., 0., 0.], dtype=float32)"
            ]
          },
          "metadata": {
            "tags": []
          },
          "execution_count": 23
        }
      ]
    }
  ]
}