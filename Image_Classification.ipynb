{
  "nbformat": 4,
  "nbformat_minor": 0,
  "metadata": {
    "colab": {
      "name": "Image_Classification.ipynb",
      "provenance": [],
      "collapsed_sections": [],
      "machine_shape": "hm",
      "include_colab_link": true
    },
    "kernelspec": {
      "name": "python3",
      "display_name": "Python 3"
    },
    "accelerator": "GPU"
  },
  "cells": [
    {
      "cell_type": "markdown",
      "metadata": {
        "id": "view-in-github",
        "colab_type": "text"
      },
      "source": [
        "<a href=\"https://colab.research.google.com/github/jittapont/bank_proof_classification/blob/master/Image_Classification.ipynb\" target=\"_parent\"><img src=\"https://colab.research.google.com/assets/colab-badge.svg\" alt=\"Open In Colab\"/></a>"
      ]
    },
    {
      "cell_type": "code",
      "metadata": {
        "id": "Z5xfgvVBrZSP",
        "colab": {
          "base_uri": "https://localhost:8080/"
        },
        "outputId": "c0fa4ed7-6bc7-4be1-fd63-410d4f7ce11a"
      },
      "source": [
        "from google.colab import drive\n",
        "drive.mount('/content/drive', force_remount=True)"
      ],
      "execution_count": 3,
      "outputs": [
        {
          "output_type": "stream",
          "text": [
            "Mounted at /content/drive\n"
          ],
          "name": "stdout"
        }
      ]
    },
    {
      "cell_type": "code",
      "metadata": {
        "id": "B01cctcvcwzt",
        "colab": {
          "base_uri": "https://localhost:8080/",
          "height": 35
        },
        "outputId": "de73abd1-7a23-4fd2-c74d-9baf72cf03df"
      },
      "source": [
        "import tensorflow as tf\n",
        "tf.test.gpu_device_name()"
      ],
      "execution_count": 4,
      "outputs": [
        {
          "output_type": "execute_result",
          "data": {
            "application/vnd.google.colaboratory.intrinsic+json": {
              "type": "string"
            },
            "text/plain": [
              "'/device:GPU:0'"
            ]
          },
          "metadata": {
            "tags": []
          },
          "execution_count": 4
        }
      ]
    },
    {
      "cell_type": "markdown",
      "metadata": {
        "id": "kYphHrKVZM1g"
      },
      "source": [
        "## Import library\n",
        "\n",
        "Note need to use tensorflow version 1.x"
      ]
    },
    {
      "cell_type": "code",
      "metadata": {
        "id": "nvM-I9viq7AF",
        "colab": {
          "base_uri": "https://localhost:8080/"
        },
        "outputId": "572ec29b-bb6b-4493-ce8c-888b6e3a1ac8"
      },
      "source": [
        "%tensorflow_version 1.x\n",
        "import pickle\n",
        "import os\n",
        "import matplotlib.pyplot as plt\n",
        "import numpy as np\n",
        "import cv2\n",
        "import tensorflow as tf\n",
        "from tensorflow.keras.models import Sequential\n",
        "from tensorflow.keras.layers import Dense, Dropout, Activation, Flatten\n",
        "from tensorflow.keras.layers import Conv2D, MaxPooling2D\n",
        "from keras.utils.np_utils import to_categorical\n",
        "import datetime"
      ],
      "execution_count": 1,
      "outputs": [
        {
          "output_type": "stream",
          "text": [
            "TensorFlow 1.x selected.\n"
          ],
          "name": "stdout"
        },
        {
          "output_type": "stream",
          "text": [
            "Using TensorFlow backend.\n"
          ],
          "name": "stderr"
        }
      ]
    },
    {
      "cell_type": "code",
      "metadata": {
        "colab": {
          "base_uri": "https://localhost:8080/",
          "height": 35
        },
        "id": "uk2BXgJQXSKT",
        "outputId": "7e8d6147-0951-42f4-b921-42a6d59cd743"
      },
      "source": [
        "tf.__version__"
      ],
      "execution_count": 2,
      "outputs": [
        {
          "output_type": "execute_result",
          "data": {
            "application/vnd.google.colaboratory.intrinsic+json": {
              "type": "string"
            },
            "text/plain": [
              "'1.15.2'"
            ]
          },
          "metadata": {
            "tags": []
          },
          "execution_count": 2
        }
      ]
    },
    {
      "cell_type": "markdown",
      "metadata": {
        "id": "it7NgWSLZcsu"
      },
      "source": [
        "## Load datasets"
      ]
    },
    {
      "cell_type": "code",
      "metadata": {
        "id": "SE2-vi_WqbRw"
      },
      "source": [
        "with open(\"/content/drive/My Drive/Dataset/X.pickle\",\"rb\") as pickle_in:\n",
        "    X = pickle.load(pickle_in)"
      ],
      "execution_count": 5,
      "outputs": []
    },
    {
      "cell_type": "code",
      "metadata": {
        "id": "HEPoo6rRq-yB"
      },
      "source": [
        "with open(\"/content/drive/My Drive/Dataset/y.pickle\",\"rb\") as pickle_in:\n",
        "    y = pickle.load(pickle_in)"
      ],
      "execution_count": 7,
      "outputs": []
    },
    {
      "cell_type": "code",
      "metadata": {
        "id": "dsH8j_G9CU7y",
        "colab": {
          "base_uri": "https://localhost:8080/"
        },
        "outputId": "c5a8472d-013b-47ba-be9a-9b6c3f16d723"
      },
      "source": [
        "X.shape"
      ],
      "execution_count": 8,
      "outputs": [
        {
          "output_type": "execute_result",
          "data": {
            "text/plain": [
              "(220, 100, 100, 1)"
            ]
          },
          "metadata": {
            "tags": []
          },
          "execution_count": 8
        }
      ]
    },
    {
      "cell_type": "code",
      "metadata": {
        "id": "Ag6vHGYJkTyx"
      },
      "source": [
        "y = to_categorical(y)"
      ],
      "execution_count": 9,
      "outputs": []
    },
    {
      "cell_type": "code",
      "metadata": {
        "id": "qnhLE6yWiI_h",
        "colab": {
          "base_uri": "https://localhost:8080/",
          "height": 256
        },
        "outputId": "c05bddf3-c483-4f26-cb15-bfadce137501"
      },
      "source": [
        "# memory footprint support libraries/code\n",
        "!ln -sf /opt/bin/nvidia-smi /usr/bin/nvidia-smi\n",
        "!pip install gputil\n",
        "!pip install psutil\n",
        "!pip install humanize\n",
        "\n",
        "import psutil\n",
        "import humanize\n",
        "import os\n",
        "import GPUtil as GPU\n",
        "GPUs = GPU.getGPUs()\n",
        "# XXX: only one GPU on Colab and isn't guaranteed\n",
        "gpu = GPUs[0]\n",
        "\n",
        "def printm():\n",
        "  process = psutil.Process(os.getpid())\n",
        "  print(\"Gen RAM Free: \" + humanize.naturalsize( psutil.virtual_memory().available ), \" I Proc size: \" + humanize.naturalsize( process.memory_info().rss))\n",
        "  print('GPU RAM Free: {0:.0f}MB | Used: {1:.0f}MB | Util {2:3.0f}% | Total {3:.0f}MB'.format(gpu.memoryFree, gpu.memoryUsed, gpu.memoryUtil*100, gpu.memoryTotal))\n",
        "\n",
        "printm()"
      ],
      "execution_count": null,
      "outputs": [
        {
          "output_type": "stream",
          "text": [
            "Collecting gputil\n",
            "  Downloading https://files.pythonhosted.org/packages/ed/0e/5c61eedde9f6c87713e89d794f01e378cfd9565847d4576fa627d758c554/GPUtil-1.4.0.tar.gz\n",
            "Building wheels for collected packages: gputil\n",
            "  Building wheel for gputil (setup.py) ... \u001b[?25l\u001b[?25hdone\n",
            "  Created wheel for gputil: filename=GPUtil-1.4.0-cp36-none-any.whl size=7410 sha256=5b23d258aca0774453554bfd0f047ff8f3ee71e02b6bc72ddbf117c628f591cf\n",
            "  Stored in directory: /root/.cache/pip/wheels/3d/77/07/80562de4bb0786e5ea186911a2c831fdd0018bda69beab71fd\n",
            "Successfully built gputil\n",
            "Installing collected packages: gputil\n",
            "Successfully installed gputil-1.4.0\n",
            "Requirement already satisfied: psutil in /usr/local/lib/python3.6/dist-packages (5.4.8)\n",
            "Requirement already satisfied: humanize in /usr/local/lib/python3.6/dist-packages (0.5.1)\n",
            "Gen RAM Free: 22.6 GB  I Proc size: 7.4 GB\n",
            "GPU RAM Free: 16280MB | Used: 0MB | Util   0% | Total 16280MB\n"
          ],
          "name": "stdout"
        }
      ]
    },
    {
      "cell_type": "markdown",
      "metadata": {
        "id": "fiY4ZoOxZhNt"
      },
      "source": [
        "## Train model"
      ]
    },
    {
      "cell_type": "code",
      "metadata": {
        "id": "2Fb8wfbN00Jj",
        "colab": {
          "base_uri": "https://localhost:8080/"
        },
        "outputId": "0f70ee5a-a697-4b1a-8e93-54e242adecae"
      },
      "source": [
        "model = Sequential()\n",
        "\n",
        "model.add(Conv2D(256, (3, 3), input_shape=X.shape[1:]))\n",
        "model.add(Activation('relu'))\n",
        "model.add(MaxPooling2D(pool_size=(2, 2)))\n",
        "\n",
        "model.add(Conv2D(256, (3, 3)))\n",
        "model.add(Activation('relu'))\n",
        "model.add(MaxPooling2D(pool_size=(2, 2)))\n",
        "\n",
        "model.add(Conv2D(256, (3, 3)))\n",
        "model.add(Activation('relu'))\n",
        "model.add(MaxPooling2D(pool_size=(2, 2)))\n",
        "\n",
        "model.add(Flatten())\n",
        "\n",
        "model.add(Dense(64))\n",
        "model.add(Dense(64))\n",
        "\n",
        "model.add(Dense(y.shape[1]))\n",
        "model.add(Activation('softmax'))\n",
        "\n",
        "model.compile(loss='categorical_crossentropy',\n",
        "              optimizer='adam',\n",
        "              metrics=['accuracy'])\n",
        "\n",
        "model.fit(X, y, batch_size=128, epochs=30, validation_split=0.3)\n",
        "\n",
        "model_path = r'/content/drive/My Drive/Dataset'\n",
        "model.save(os.path.join(\n",
        "    model_path,\n",
        "    f\"month_classification_model_{datetime.datetime.now().strftime('%Y-%m-%d')}.model\")\n",
        ")"
      ],
      "execution_count": 11,
      "outputs": [
        {
          "output_type": "stream",
          "text": [
            "Train on 154 samples, validate on 66 samples\n",
            "Epoch 1/30\n",
            "154/154 [==============================] - 1s 3ms/sample - loss: 2.6883 - acc: 0.1299 - val_loss: 2.3746 - val_acc: 0.2576\n",
            "Epoch 2/30\n",
            "154/154 [==============================] - 0s 2ms/sample - loss: 2.4680 - acc: 0.1948 - val_loss: 2.4773 - val_acc: 0.0606\n",
            "Epoch 3/30\n",
            "154/154 [==============================] - 0s 2ms/sample - loss: 2.3920 - acc: 0.1039 - val_loss: 2.2569 - val_acc: 0.2576\n",
            "Epoch 4/30\n",
            "154/154 [==============================] - 0s 2ms/sample - loss: 2.1746 - acc: 0.3442 - val_loss: 1.9726 - val_acc: 0.1212\n",
            "Epoch 5/30\n",
            "154/154 [==============================] - 0s 2ms/sample - loss: 1.8801 - acc: 0.2857 - val_loss: 1.1544 - val_acc: 0.7727\n",
            "Epoch 6/30\n",
            "154/154 [==============================] - 0s 2ms/sample - loss: 1.0272 - acc: 0.8247 - val_loss: 0.8294 - val_acc: 0.7273\n",
            "Epoch 7/30\n",
            "154/154 [==============================] - 0s 2ms/sample - loss: 0.5854 - acc: 0.8247 - val_loss: 0.2486 - val_acc: 0.9242\n",
            "Epoch 8/30\n",
            "154/154 [==============================] - 0s 2ms/sample - loss: 0.2612 - acc: 0.9286 - val_loss: 0.1380 - val_acc: 0.9697\n",
            "Epoch 9/30\n",
            "154/154 [==============================] - 0s 2ms/sample - loss: 0.1192 - acc: 0.9610 - val_loss: 0.0951 - val_acc: 0.9848\n",
            "Epoch 10/30\n",
            "154/154 [==============================] - 0s 2ms/sample - loss: 0.0296 - acc: 0.9935 - val_loss: 0.0808 - val_acc: 0.9848\n",
            "Epoch 11/30\n",
            "154/154 [==============================] - 0s 2ms/sample - loss: 0.0102 - acc: 1.0000 - val_loss: 0.0862 - val_acc: 0.9848\n",
            "Epoch 12/30\n",
            "154/154 [==============================] - 0s 2ms/sample - loss: 0.0033 - acc: 1.0000 - val_loss: 0.0942 - val_acc: 0.9848\n",
            "Epoch 13/30\n",
            "154/154 [==============================] - 0s 2ms/sample - loss: 0.0030 - acc: 1.0000 - val_loss: 0.1099 - val_acc: 0.9848\n",
            "Epoch 14/30\n",
            "154/154 [==============================] - 0s 2ms/sample - loss: 8.5553e-04 - acc: 1.0000 - val_loss: 0.1275 - val_acc: 0.9848\n",
            "Epoch 15/30\n",
            "154/154 [==============================] - 0s 2ms/sample - loss: 9.5007e-04 - acc: 1.0000 - val_loss: 0.1440 - val_acc: 0.9848\n",
            "Epoch 16/30\n",
            "154/154 [==============================] - 0s 2ms/sample - loss: 6.3352e-04 - acc: 1.0000 - val_loss: 0.1624 - val_acc: 0.9848\n",
            "Epoch 17/30\n",
            "154/154 [==============================] - 0s 2ms/sample - loss: 3.6804e-04 - acc: 1.0000 - val_loss: 0.1772 - val_acc: 0.9848\n",
            "Epoch 18/30\n",
            "154/154 [==============================] - 0s 2ms/sample - loss: 2.5385e-04 - acc: 1.0000 - val_loss: 0.1876 - val_acc: 0.9848\n",
            "Epoch 19/30\n",
            "154/154 [==============================] - 0s 2ms/sample - loss: 1.2260e-04 - acc: 1.0000 - val_loss: 0.1954 - val_acc: 0.9848\n",
            "Epoch 20/30\n",
            "154/154 [==============================] - 0s 2ms/sample - loss: 8.5036e-05 - acc: 1.0000 - val_loss: 0.2002 - val_acc: 0.9848\n",
            "Epoch 21/30\n",
            "154/154 [==============================] - 0s 2ms/sample - loss: 1.2660e-04 - acc: 1.0000 - val_loss: 0.1972 - val_acc: 0.9848\n",
            "Epoch 22/30\n",
            "154/154 [==============================] - 0s 2ms/sample - loss: 1.0489e-04 - acc: 1.0000 - val_loss: 0.1896 - val_acc: 0.9848\n",
            "Epoch 23/30\n",
            "154/154 [==============================] - 0s 2ms/sample - loss: 4.7568e-05 - acc: 1.0000 - val_loss: 0.1813 - val_acc: 0.9848\n",
            "Epoch 24/30\n",
            "154/154 [==============================] - 0s 2ms/sample - loss: 3.9671e-05 - acc: 1.0000 - val_loss: 0.1759 - val_acc: 0.9848\n",
            "Epoch 25/30\n",
            "154/154 [==============================] - 0s 2ms/sample - loss: 3.0866e-05 - acc: 1.0000 - val_loss: 0.1722 - val_acc: 0.9848\n",
            "Epoch 26/30\n",
            "154/154 [==============================] - 0s 2ms/sample - loss: 1.8405e-05 - acc: 1.0000 - val_loss: 0.1700 - val_acc: 0.9848\n",
            "Epoch 27/30\n",
            "154/154 [==============================] - 0s 2ms/sample - loss: 1.3087e-05 - acc: 1.0000 - val_loss: 0.1685 - val_acc: 0.9848\n",
            "Epoch 28/30\n",
            "154/154 [==============================] - 0s 2ms/sample - loss: 1.1525e-05 - acc: 1.0000 - val_loss: 0.1672 - val_acc: 0.9848\n",
            "Epoch 29/30\n",
            "154/154 [==============================] - 0s 2ms/sample - loss: 1.0790e-05 - acc: 1.0000 - val_loss: 0.1655 - val_acc: 0.9848\n",
            "Epoch 30/30\n",
            "154/154 [==============================] - 0s 2ms/sample - loss: 9.8695e-06 - acc: 1.0000 - val_loss: 0.1636 - val_acc: 0.9848\n"
          ],
          "name": "stdout"
        }
      ]
    },
    {
      "cell_type": "markdown",
      "metadata": {
        "id": "iKgcFwgBZCCY"
      },
      "source": [
        "## Save model"
      ]
    },
    {
      "cell_type": "code",
      "metadata": {
        "id": "ZMGU5j0OnE3l"
      },
      "source": [
        "model_path = '/content/drive/My Drive/Dataset'\n",
        "model_name = f\"image_classification_model_{datetime.datetime.now().strftime('%Y-%m-%d')}.model\"\n",
        "model.save(os.path.join(model_path, model_name))"
      ],
      "execution_count": 14,
      "outputs": []
    },
    {
      "cell_type": "markdown",
      "metadata": {
        "id": "BoV5yZHuZFsM"
      },
      "source": [
        "## Test model prediction"
      ]
    },
    {
      "cell_type": "code",
      "metadata": {
        "id": "iNGUbvbn34Dv",
        "colab": {
          "base_uri": "https://localhost:8080/"
        },
        "outputId": "c4dab0a5-4f14-4855-d1b7-3caedb932fc3"
      },
      "source": [
        "import cv2\n",
        "import tensorflow as tf\n",
        "import numpy as np\n",
        "categories = [\n",
        "        \"BAAC\",\n",
        "        \"BAY\",\n",
        "        \"BBL\",\n",
        "        \"GSB\",\n",
        "        \"KBANK\",\n",
        "        \"KTB\",\n",
        "        \"PAOTANG\",\n",
        "        \"Others\",\n",
        "        \"SCB\",\n",
        "        \"TBANK\",\n",
        "        \"TMB\"\n",
        "]\n",
        "\n",
        "def prepare(filepath):\n",
        "    IMG_SIZE = 100\n",
        "    img_array = cv2.imread(filepath, cv2.IMREAD_GRAYSCALE)\n",
        "    new_array = cv2.resize(img_array, (IMG_SIZE, IMG_SIZE)) \n",
        "    return new_array.reshape(-1, IMG_SIZE, IMG_SIZE, 1) \n",
        "\n",
        "model = tf.keras.models.load_model(os.path.join(model_path, model_name))\n",
        "prediction = model.predict([prepare('/content/drive/My Drive/Dataset/1.jpeg')])\n",
        "print(prediction[0])\n",
        "print(categories[np.argmax(prediction[0])])"
      ],
      "execution_count": 17,
      "outputs": [
        {
          "output_type": "stream",
          "text": [
            "WARNING:tensorflow:From /tensorflow-1.15.2/python3.7/tensorflow_core/python/ops/init_ops.py:97: calling GlorotUniform.__init__ (from tensorflow.python.ops.init_ops) with dtype is deprecated and will be removed in a future version.\n",
            "Instructions for updating:\n",
            "Call initializer instance with the dtype argument instead of passing it to the constructor\n",
            "WARNING:tensorflow:From /tensorflow-1.15.2/python3.7/tensorflow_core/python/ops/init_ops.py:97: calling Zeros.__init__ (from tensorflow.python.ops.init_ops) with dtype is deprecated and will be removed in a future version.\n",
            "Instructions for updating:\n",
            "Call initializer instance with the dtype argument instead of passing it to the constructor\n",
            "[0. 0. 0. 0. 1. 0. 0. 0. 0. 0. 0.]\n",
            "KBANK\n"
          ],
          "name": "stdout"
        }
      ]
    }
  ]
}